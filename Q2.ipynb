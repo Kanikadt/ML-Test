{
 "cells": [
  {
   "cell_type": "code",
   "execution_count": 127,
   "id": "24d9309c-a1f4-40e3-8304-5656cdc50be1",
   "metadata": {},
   "outputs": [],
   "source": [
    "import time\n",
    "import numpy as np"
   ]
  },
  {
   "cell_type": "code",
   "execution_count": 129,
   "id": "4e77bb6d-b068-495a-b61c-b6195309798f",
   "metadata": {},
   "outputs": [],
   "source": [
    "A = [[1, 2, 3], [4, 5, 6], [7, 8, 9]]\n",
    "B = [[9, 8], [6, 5], [3, 2]]\n"
   ]
  },
  {
   "cell_type": "code",
   "execution_count": 131,
   "id": "b3c1596a-8a31-4654-ad16-dd9d43cc793d",
   "metadata": {},
   "outputs": [],
   "source": [
    "def matrix_mult(A, B):\n",
    "    rows_A, cols_A = len(A), len(A[0])\n",
    "    rows_B, cols_B = len(B), len(B[0])\n",
    "\n",
    "    AxB = [[0] * cols_B for i in range(rows_A)]\n",
    "\n",
    "    if cols_A!= rows_B:\n",
    "        print(\"Matrix Multiplication AxB not possible\")\n",
    "    else:\n",
    "        for i in range(rows_A):\n",
    "            for j in range(cols_B):\n",
    "                AxB[i][j] = sum(A[i][k] * B[k][j] for k in range(cols_A))\n",
    "    \n",
    "    return AxB\n"
   ]
  },
  {
   "cell_type": "code",
   "execution_count": 133,
   "id": "a737840c-61d4-4a1a-a104-217eb1f68863",
   "metadata": {},
   "outputs": [],
   "source": [
    "start_time = time.perf_counter()\n",
    "result_list = matrix_mult(A, B)\n",
    "end_time = time.perf_counter()\n"
   ]
  },
  {
   "cell_type": "code",
   "execution_count": 135,
   "id": "6e0c7045-6097-4d97-9f2b-97c69934e0b6",
   "metadata": {},
   "outputs": [
    {
     "name": "stdout",
     "output_type": "stream",
     "text": [
      "0.0001666999887675047\n"
     ]
    }
   ],
   "source": [
    "time_list = end_time - start_time\n",
    "print(time_list)"
   ]
  },
  {
   "cell_type": "markdown",
   "id": "18f2026d-19de-4867-b85a-a5c6275be2cb",
   "metadata": {},
   "source": [
    "Comparison with Numpy"
   ]
  },
  {
   "cell_type": "code",
   "execution_count": 142,
   "id": "22380c13-5fd2-4f4a-a20b-a0c9f31960f5",
   "metadata": {},
   "outputs": [],
   "source": [
    "A = np.array([[1, 2, 3], [4, 5, 6], [7, 8, 9]])\n",
    "B = np.array([[9, 8], [6, 5], [3, 2]])\n",
    "start_time = time.perf_counter()\n",
    "result_numpy = np.dot(A, B)\n",
    "end_time = time.perf_counter()\n"
   ]
  },
  {
   "cell_type": "code",
   "execution_count": 144,
   "id": "df479a17-8b11-42a4-9c65-7d17f480c547",
   "metadata": {},
   "outputs": [
    {
     "name": "stdout",
     "output_type": "stream",
     "text": [
      "0.00015970005188137293\n"
     ]
    }
   ],
   "source": [
    "time_numpy = end_time - start_time\n",
    "print(time_numpy)"
   ]
  },
  {
   "cell_type": "markdown",
   "id": "6659891d-15b5-4c84-ad30-df0f63ba869b",
   "metadata": {},
   "source": [
    "It can be seen that Numpy is faster than the usual list method. The reason for this is:\n",
    "1. NumPy divides large tasks into smaller fragments, which can then be executed simultaneously. This process, known as parallelism, allows NumPy to leverage multiple CPU cores.\n",
    "2. NumPy's core operations are written in low-level languages such as C, C++, and Fortran. These languages are compiled and have much lower execution times compared to Python, which is an interpreted language.\n",
    "3. NumPy leverages highly optimized numerical libraries like BLAS (Basic Linear Algebra Subprograms) and LAPACK (Linear Algebra Package). These libraries are extensively optimized for performance on various hardware architectures\n"
   ]
  },
  {
   "cell_type": "code",
   "execution_count": null,
   "id": "c8908157-6cd3-4fe7-b1f0-f3bad06be72c",
   "metadata": {},
   "outputs": [],
   "source": []
  }
 ],
 "metadata": {
  "kernelspec": {
   "display_name": "Python 3 (ipykernel)",
   "language": "python",
   "name": "python3"
  },
  "language_info": {
   "codemirror_mode": {
    "name": "ipython",
    "version": 3
   },
   "file_extension": ".py",
   "mimetype": "text/x-python",
   "name": "python",
   "nbconvert_exporter": "python",
   "pygments_lexer": "ipython3",
   "version": "3.12.4"
  }
 },
 "nbformat": 4,
 "nbformat_minor": 5
}
