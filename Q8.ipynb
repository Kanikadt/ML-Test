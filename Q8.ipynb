{
 "cells": [
  {
   "cell_type": "code",
   "execution_count": 3,
   "id": "71dc7e92-75cb-49cb-93e1-1043b985d68e",
   "metadata": {},
   "outputs": [],
   "source": [
    "class Student:\n",
    "    def __init__(self, roll_number, name, marks):\n",
    "        self.roll_number = roll_number\n",
    "        self.name = name\n",
    "        self.marks = marks\n",
    "        \n",
    "class Branch:\n",
    "    def __init__(self, name):\n",
    "        self.name = name\n",
    "        self.students = []\n",
    "\n",
    "class Year:\n",
    "    def __init__(self, year):\n",
    "        self.year = year\n",
    "        self.branches = []\n",
    "\n",
    "student_1 = Student(1, 'A', {'Maths': 90, 'English': 70})\n",
    "student_2 = Student(2, 'B', {'Maths': 90, 'English': 80})\n",
    "branch_1_2022 = Branch('Branch 1')\n",
    "branch_1_2022.students = [student_1, student_2]\n",
    "branch_2_2022 = Branch('Branch 2')\n",
    "year_2022 = Year(2022)\n",
    "year_2022.branches = [branch_1_2022, branch_2_2022]\n",
    "\n",
    "\n",
    "student_3 = Student(3, 'C', {'Maths': 100, 'English': 70})\n",
    "student_4 = Student(4, 'D',  {'Maths': 100, 'English': 80})\n",
    "branch_1_2023 = Branch('Branch 1')\n",
    "branch_1_2023.students = [student_3, student_4]\n",
    "branch_2_2023 = Branch('Branch 2')\n",
    "year_2023 = Year(2023)\n",
    "year_2023.branches = [branch_1_2023, branch_2_2023]\n",
    "\n",
    "\n",
    "student_5 = Student(5, 'E', {'Maths': 100, 'English': 70})\n",
    "student_6 = Student(6, 'F', {'Maths': 100, 'English': 100})\n",
    "branch_1_2024 = Branch('Branch 1')\n",
    "branch_1_2024.students = [student_5, student_6]\n",
    "branch_2_2024 = Branch('Branch 2')\n",
    "year_2024 = Year(2024)\n",
    "year_2024.branches = [branch_1_2024, branch_2_2024]\n",
    "\n",
    "\n",
    "student_7 = Student(7, 'G', {'Maths': 40, 'English': 70})\n",
    "student_8 = Student(8, 'H', {'Maths': 90, 'English': 80})\n",
    "branch_1_2025 = Branch('Branch 1')\n",
    "branch_1_2025.students = [student_7, student_8]\n",
    "branch_2_2025 = Branch('Branch 2')\n",
    "year_2025 = Year(2025)\n",
    "year_2025.branches = [branch_1_2025, branch_2_2025]\n",
    "\n",
    "database = [year_2022, year_2023, year_2024, year_2025]"
   ]
  },
  {
   "cell_type": "code",
   "execution_count": null,
   "id": "215a2d21-5a7f-444b-a871-5399cc2c66c1",
   "metadata": {},
   "outputs": [],
   "source": []
  }
 ],
 "metadata": {
  "kernelspec": {
   "display_name": "Python 3 (ipykernel)",
   "language": "python",
   "name": "python3"
  },
  "language_info": {
   "codemirror_mode": {
    "name": "ipython",
    "version": 3
   },
   "file_extension": ".py",
   "mimetype": "text/x-python",
   "name": "python",
   "nbconvert_exporter": "python",
   "pygments_lexer": "ipython3",
   "version": "3.12.4"
  }
 },
 "nbformat": 4,
 "nbformat_minor": 5
}
