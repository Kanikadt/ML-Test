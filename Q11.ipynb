{
 "cells": [
  {
   "cell_type": "code",
   "execution_count": 3,
   "id": "d4f1daa6-125d-445b-bb27-d0b1f7f85a0f",
   "metadata": {},
   "outputs": [],
   "source": [
    "import numpy as np\n",
    "import pandas as pd\n",
    "\n",
    "matrix_data = np.random.uniform(1, 2, size=(20, 5))\n",
    "df = pd.DataFrame(matrix_data, columns=['a', 'b', 'c', 'd', 'e'])\n"
   ]
  },
  {
   "cell_type": "markdown",
   "id": "f5789d66-72e4-43d3-8772-3a182169c6a6",
   "metadata": {},
   "source": [
    "Adding columns based on different conditions "
   ]
  },
  {
   "cell_type": "code",
   "execution_count": 6,
   "id": "d48f9c6c-15e1-465a-8092-ab244827b1fa",
   "metadata": {},
   "outputs": [
    {
     "data": {
      "text/html": [
       "<div>\n",
       "<style scoped>\n",
       "    .dataframe tbody tr th:only-of-type {\n",
       "        vertical-align: middle;\n",
       "    }\n",
       "\n",
       "    .dataframe tbody tr th {\n",
       "        vertical-align: top;\n",
       "    }\n",
       "\n",
       "    .dataframe thead th {\n",
       "        text-align: right;\n",
       "    }\n",
       "</style>\n",
       "<table border=\"1\" class=\"dataframe\">\n",
       "  <thead>\n",
       "    <tr style=\"text-align: right;\">\n",
       "      <th></th>\n",
       "      <th>a</th>\n",
       "      <th>b</th>\n",
       "      <th>c</th>\n",
       "      <th>d</th>\n",
       "      <th>e</th>\n",
       "      <th>f</th>\n",
       "      <th>g</th>\n",
       "    </tr>\n",
       "  </thead>\n",
       "  <tbody>\n",
       "    <tr>\n",
       "      <th>0</th>\n",
       "      <td>1.040099</td>\n",
       "      <td>1.040922</td>\n",
       "      <td>1.095638</td>\n",
       "      <td>1.193680</td>\n",
       "      <td>1.061332</td>\n",
       "      <td>5.431671</td>\n",
       "      <td>LT8</td>\n",
       "    </tr>\n",
       "    <tr>\n",
       "      <th>1</th>\n",
       "      <td>1.520606</td>\n",
       "      <td>1.985065</td>\n",
       "      <td>1.975674</td>\n",
       "      <td>1.669379</td>\n",
       "      <td>1.159209</td>\n",
       "      <td>8.309933</td>\n",
       "      <td>GT8</td>\n",
       "    </tr>\n",
       "    <tr>\n",
       "      <th>2</th>\n",
       "      <td>1.255000</td>\n",
       "      <td>1.140577</td>\n",
       "      <td>1.947400</td>\n",
       "      <td>1.980343</td>\n",
       "      <td>1.266357</td>\n",
       "      <td>7.589678</td>\n",
       "      <td>LT8</td>\n",
       "    </tr>\n",
       "    <tr>\n",
       "      <th>3</th>\n",
       "      <td>1.856690</td>\n",
       "      <td>1.489489</td>\n",
       "      <td>1.586154</td>\n",
       "      <td>1.323883</td>\n",
       "      <td>1.273504</td>\n",
       "      <td>7.529720</td>\n",
       "      <td>LT8</td>\n",
       "    </tr>\n",
       "    <tr>\n",
       "      <th>4</th>\n",
       "      <td>1.250128</td>\n",
       "      <td>1.911478</td>\n",
       "      <td>1.443769</td>\n",
       "      <td>1.153116</td>\n",
       "      <td>1.232895</td>\n",
       "      <td>6.991387</td>\n",
       "      <td>LT8</td>\n",
       "    </tr>\n",
       "  </tbody>\n",
       "</table>\n",
       "</div>"
      ],
      "text/plain": [
       "          a         b         c         d         e         f    g\n",
       "0  1.040099  1.040922  1.095638  1.193680  1.061332  5.431671  LT8\n",
       "1  1.520606  1.985065  1.975674  1.669379  1.159209  8.309933  GT8\n",
       "2  1.255000  1.140577  1.947400  1.980343  1.266357  7.589678  LT8\n",
       "3  1.856690  1.489489  1.586154  1.323883  1.273504  7.529720  LT8\n",
       "4  1.250128  1.911478  1.443769  1.153116  1.232895  6.991387  LT8"
      ]
     },
     "execution_count": 6,
     "metadata": {},
     "output_type": "execute_result"
    }
   ],
   "source": [
    "df['f'] =  df[[\"a\", \"b\", \"c\", \"d\", \"e\"]].sum(axis=1)\n",
    "df[\"g\"] = np.where(df[\"f\"] < 8, \"LT8\", \"GT8\")\n",
    "df.head()"
   ]
  },
  {
   "cell_type": "markdown",
   "id": "bb75a079-d2eb-4a38-9bfc-5e347b92e62b",
   "metadata": {},
   "source": [
    "No. of rows where the value in the column “g” is “LT8”"
   ]
  },
  {
   "cell_type": "code",
   "execution_count": 15,
   "id": "1bc4a3be-9186-4d77-8716-aa5b3d6dcee1",
   "metadata": {},
   "outputs": [
    {
     "data": {
      "text/plain": [
       "14"
      ]
     },
     "execution_count": 15,
     "metadata": {},
     "output_type": "execute_result"
    }
   ],
   "source": [
    "df.loc[df['g'] == 'LT8'].shape[0]"
   ]
  },
  {
   "cell_type": "markdown",
   "id": "bb7af45e-aea3-4152-91e3-48c3b0541174",
   "metadata": {},
   "source": [
    "Finding standard deviation of the column “f” for the rows where the value in the column “g” is “LT8” and “GT8” respectuvely"
   ]
  },
  {
   "cell_type": "code",
   "execution_count": 18,
   "id": "4ab63e17-437a-4949-bc48-28428d1f1a8c",
   "metadata": {},
   "outputs": [
    {
     "data": {
      "text/plain": [
       "0.7713639206775262"
      ]
     },
     "execution_count": 18,
     "metadata": {},
     "output_type": "execute_result"
    }
   ],
   "source": [
    "df.loc[df['g'] == 'LT8', 'f'].std()"
   ]
  },
  {
   "cell_type": "code",
   "execution_count": 20,
   "id": "520c2144-5e3d-4091-b344-8d7d2f1fe48f",
   "metadata": {},
   "outputs": [
    {
     "data": {
      "text/plain": [
       "0.143798038487064"
      ]
     },
     "execution_count": 20,
     "metadata": {},
     "output_type": "execute_result"
    }
   ],
   "source": [
    "df.loc[df['g'] == 'GT8', 'f'].std()"
   ]
  },
  {
   "cell_type": "code",
   "execution_count": null,
   "id": "1b9cbe4e-92a7-4c86-b121-4afd360fe229",
   "metadata": {},
   "outputs": [],
   "source": []
  }
 ],
 "metadata": {
  "kernelspec": {
   "display_name": "Python 3 (ipykernel)",
   "language": "python",
   "name": "python3"
  },
  "language_info": {
   "codemirror_mode": {
    "name": "ipython",
    "version": 3
   },
   "file_extension": ".py",
   "mimetype": "text/x-python",
   "name": "python",
   "nbconvert_exporter": "python",
   "pygments_lexer": "ipython3",
   "version": "3.12.4"
  }
 },
 "nbformat": 4,
 "nbformat_minor": 5
}
