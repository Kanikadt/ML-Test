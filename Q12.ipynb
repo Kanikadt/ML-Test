{
 "cells": [
  {
   "cell_type": "markdown",
   "id": "f70488f4-47ba-4d2f-95ee-a2812e80af4a",
   "metadata": {},
   "source": [
    "The term broadcasting describes how NumPy treats arrays with different shapes during arithmetic operations.  Subject to certain constraints, the smaller array is “broadcast” across the larger array so that they have compatible shapes."
   ]
  },
  {
   "cell_type": "code",
   "execution_count": 2,
   "id": "e850bb6a-fce0-4f19-8a18-730e73271ce7",
   "metadata": {},
   "outputs": [
    {
     "name": "stdout",
     "output_type": "stream",
     "text": [
      "[[2 3 4]\n",
      " [3 4 5]\n",
      " [4 5 6]]\n"
     ]
    }
   ],
   "source": [
    "import numpy as np\n",
    "\n",
    "# create 1-D array\n",
    "array1 = np.array([1, 2, 3])\n",
    "\n",
    "# create 2-D array\n",
    "array2 = np.array([[1], [2], [3]])\n",
    "\n",
    "# add arrays of different dimension\n",
    "sum = array1 + array2\n",
    "\n",
    "print(sum)"
   ]
  },
  {
   "cell_type": "markdown",
   "id": "ebf5e099-8266-4300-99a2-36dbe89763e6",
   "metadata": {},
   "source": [
    "Numpy automatically expands the size of 1-D array array1 to match with the size of 2-D array array2. \r\n",
    "Then, the element-wise addition is performed between two 2-D arrays.\r\n",
    "\r\n"
   ]
  },
  {
   "cell_type": "code",
   "execution_count": 5,
   "id": "f3dda6fa-4d03-4ab1-8312-9d33d2cd846c",
   "metadata": {},
   "outputs": [
    {
     "name": "stdout",
     "output_type": "stream",
     "text": [
      "[20  4  6]\n"
     ]
    }
   ],
   "source": [
    "import numpy as np\n",
    "a = np.array([10, 2, 3])\n",
    "b = 2\n",
    "prod = a * b\n",
    "print(prod)"
   ]
  },
  {
   "cell_type": "markdown",
   "id": "fadb6481-bc51-422b-9379-fb63944ea4b8",
   "metadata": {},
   "source": [
    "Here, scalar b get stretched during the arithmetic operation into an array with the same shape as a and then multiplication happened."
   ]
  },
  {
   "cell_type": "code",
   "execution_count": null,
   "id": "6bdcb631-67b7-420f-b71a-8b352550bd59",
   "metadata": {},
   "outputs": [],
   "source": []
  }
 ],
 "metadata": {
  "kernelspec": {
   "display_name": "Python 3 (ipykernel)",
   "language": "python",
   "name": "python3"
  },
  "language_info": {
   "codemirror_mode": {
    "name": "ipython",
    "version": 3
   },
   "file_extension": ".py",
   "mimetype": "text/x-python",
   "name": "python",
   "nbconvert_exporter": "python",
   "pygments_lexer": "ipython3",
   "version": "3.12.4"
  }
 },
 "nbformat": 4,
 "nbformat_minor": 5
}
