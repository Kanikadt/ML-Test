{
 "cells": [
  {
   "cell_type": "code",
   "execution_count": 25,
   "id": "ef9efa59-0ade-4382-a6dd-95fd4c3a8913",
   "metadata": {},
   "outputs": [],
   "source": [
    "import jax\n",
    "import jax.numpy as jnp"
   ]
  },
  {
   "cell_type": "markdown",
   "id": "a5b0827c-4ed4-4fd2-b337-7a443e7fcc83",
   "metadata": {},
   "source": [
    "From question 4 we calculated the gradients analytically which came out to be:\n",
    "\n",
    " grad_x = $2xy + y^{3}cos(x)$\n",
    "\n",
    " grad_y = $x^{2} + 3y^{2}sin(x)$\n"
   ]
  },
  {
   "cell_type": "code",
   "execution_count": 28,
   "id": "5c5d1c63-3f5a-46e9-b29c-0e04c8967389",
   "metadata": {},
   "outputs": [],
   "source": [
    "def f(x, y):\n",
    "    return x**2 * y + y**3 * jnp.sin(x)\n",
    "\n",
    "grad_f = jax.grad(f, argnums=(0, 1))"
   ]
  },
  {
   "cell_type": "code",
   "execution_count": 32,
   "id": "28c43871-3444-42e6-a6ff-d8ec867088a0",
   "metadata": {},
   "outputs": [
    {
     "name": "stdout",
     "output_type": "stream",
     "text": [
      "Gradient with respect to x (JAX): 121.27103424072266\n",
      "Gradient with respect to y (JAX): -78.56382751464844\n",
      "Analytical gradient with respect to x: 121.27103424072266\n",
      "Analytical gradient with respect to y: -78.56382751464844\n"
     ]
    }
   ],
   "source": [
    "# List of points to evaluate\n",
    "points = [(2.0, 3.0), (5.0, 6.0)]\n",
    "\n",
    "# Evaluate gradients at each point using JAX\n",
    "for x_, y_ in points:\n",
    "    grad_x, grad_y = grad_f(x_, y_)\n",
    "\n",
    "# Analytical gradient computation\n",
    "analytical_grad_x = 2 * x_ * y_ + y_**3 * jnp.cos(x_)\n",
    "analytical_grad_y = x_**2 + 3 * y_**2 * jnp.sin(x_)\n",
    "\n",
    "print(f\"Gradient with respect to x (JAX): {grad_x}\")\n",
    "print(f\"Gradient with respect to y (JAX): {grad_y}\")\n",
    "\n",
    "print(f\"Analytical gradient with respect to x: {analytical_grad_x}\")\n",
    "print(f\"Analytical gradient with respect to y: {analytical_grad_y}\")\n",
    "\n"
   ]
  },
  {
   "cell_type": "code",
   "execution_count": null,
   "id": "382d4938-640f-4ee1-a047-aee6f3b6169a",
   "metadata": {},
   "outputs": [],
   "source": []
  }
 ],
 "metadata": {
  "kernelspec": {
   "display_name": "Python 3 (ipykernel)",
   "language": "python",
   "name": "python3"
  },
  "language_info": {
   "codemirror_mode": {
    "name": "ipython",
    "version": 3
   },
   "file_extension": ".py",
   "mimetype": "text/x-python",
   "name": "python",
   "nbconvert_exporter": "python",
   "pygments_lexer": "ipython3",
   "version": "3.12.4"
  }
 },
 "nbformat": 4,
 "nbformat_minor": 5
}
