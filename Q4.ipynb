{
 "cells": [
  {
   "cell_type": "markdown",
   "id": "c6053d5d-5207-47ae-a21d-c274da916859",
   "metadata": {},
   "source": [
    "Q4.\n",
    "\n",
    "f(x,y) = $x^{2}y + y^{3}sin(x)$\n",
    "\n",
    "Gradient w.r.t to x is: $2xy + y^{3}cos(x) $\n",
    "\n",
    "Gradient w.r.t to y is: $x^{2} + 3y^{2}sin(x) $\n"
   ]
  }
 ],
 "metadata": {
  "kernelspec": {
   "display_name": "Python 3 (ipykernel)",
   "language": "python",
   "name": "python3"
  },
  "language_info": {
   "codemirror_mode": {
    "name": "ipython",
    "version": 3
   },
   "file_extension": ".py",
   "mimetype": "text/x-python",
   "name": "python",
   "nbconvert_exporter": "python",
   "pygments_lexer": "ipython3",
   "version": "3.12.4"
  }
 },
 "nbformat": 4,
 "nbformat_minor": 5
}
