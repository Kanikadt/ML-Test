{
 "cells": [
  {
   "cell_type": "markdown",
   "id": "bccc60d7-d2b4-4f6a-9b6b-d0a075ebd2f0",
   "metadata": {},
   "source": [
    "Creating a matrix"
   ]
  },
  {
   "cell_type": "code",
   "execution_count": 2,
   "id": "c0f30b2f-58cc-4f1f-ac01-b633d7443629",
   "metadata": {},
   "outputs": [
    {
     "name": "stdout",
     "output_type": "stream",
     "text": [
      "[[1.71088804 1.83247465 1.91408779 1.91603196 1.30794168]\n",
      " [1.51911389 1.9810715  1.24850347 1.13953002 1.65965398]\n",
      " [1.54426594 1.83379884 1.90661219 1.05898871 1.64428546]\n",
      " [1.13291222 1.13684594 1.87236461 1.00148231 1.72692861]\n",
      " [1.14330899 1.29517863 1.85762796 1.26077098 1.37489443]\n",
      " [1.82397354 1.34854753 1.88526811 1.00559345 1.61151179]\n",
      " [1.92506518 1.19625917 1.85415356 1.7631243  1.29336424]\n",
      " [1.11171406 1.64526619 1.5781269  1.88191969 1.83460903]\n",
      " [1.55196231 1.13357633 1.99405977 1.40028135 1.65407277]\n",
      " [1.49444428 1.55732003 1.23772863 1.58171372 1.44610729]\n",
      " [1.13788808 1.84646728 1.92931182 1.18500219 1.59798784]\n",
      " [1.06635264 1.9726211  1.8919627  1.70128715 1.6766941 ]\n",
      " [1.40004566 1.13532385 1.5175228  1.81232176 1.93186416]\n",
      " [1.77909306 1.95414253 1.75440068 1.93087588 1.58858227]\n",
      " [1.99613736 1.29694052 1.59237837 1.99708169 1.11396382]\n",
      " [1.96601677 1.61026146 1.89997507 1.2801851  1.40460624]\n",
      " [1.747086   1.22138478 1.1847893  1.31554246 1.63226872]\n",
      " [1.35436046 1.41762885 1.25764089 1.0854992  1.90314042]\n",
      " [1.73429003 1.13179376 1.65972204 1.01972259 1.87236778]\n",
      " [1.98450853 1.19411062 1.03322601 1.23978958 1.01573179]]\n"
     ]
    }
   ],
   "source": [
    "import numpy as np\n",
    "matrix = np.random.uniform(1, 2, size=(20, 5))\n",
    "print(matrix)"
   ]
  },
  {
   "cell_type": "markdown",
   "id": "71f66ffd-c18c-4e94-9c65-e5853979816c",
   "metadata": {},
   "source": [
    "Creating a Dataframe "
   ]
  },
  {
   "cell_type": "code",
   "execution_count": 5,
   "id": "62919417-6f1c-40a7-9d99-473787ffe78f",
   "metadata": {},
   "outputs": [
    {
     "data": {
      "text/html": [
       "<div>\n",
       "<style scoped>\n",
       "    .dataframe tbody tr th:only-of-type {\n",
       "        vertical-align: middle;\n",
       "    }\n",
       "\n",
       "    .dataframe tbody tr th {\n",
       "        vertical-align: top;\n",
       "    }\n",
       "\n",
       "    .dataframe thead th {\n",
       "        text-align: right;\n",
       "    }\n",
       "</style>\n",
       "<table border=\"1\" class=\"dataframe\">\n",
       "  <thead>\n",
       "    <tr style=\"text-align: right;\">\n",
       "      <th></th>\n",
       "      <th>a</th>\n",
       "      <th>b</th>\n",
       "      <th>c</th>\n",
       "      <th>d</th>\n",
       "      <th>e</th>\n",
       "    </tr>\n",
       "  </thead>\n",
       "  <tbody>\n",
       "    <tr>\n",
       "      <th>0</th>\n",
       "      <td>1.710888</td>\n",
       "      <td>1.832475</td>\n",
       "      <td>1.914088</td>\n",
       "      <td>1.916032</td>\n",
       "      <td>1.307942</td>\n",
       "    </tr>\n",
       "    <tr>\n",
       "      <th>1</th>\n",
       "      <td>1.519114</td>\n",
       "      <td>1.981072</td>\n",
       "      <td>1.248503</td>\n",
       "      <td>1.139530</td>\n",
       "      <td>1.659654</td>\n",
       "    </tr>\n",
       "    <tr>\n",
       "      <th>2</th>\n",
       "      <td>1.544266</td>\n",
       "      <td>1.833799</td>\n",
       "      <td>1.906612</td>\n",
       "      <td>1.058989</td>\n",
       "      <td>1.644285</td>\n",
       "    </tr>\n",
       "    <tr>\n",
       "      <th>3</th>\n",
       "      <td>1.132912</td>\n",
       "      <td>1.136846</td>\n",
       "      <td>1.872365</td>\n",
       "      <td>1.001482</td>\n",
       "      <td>1.726929</td>\n",
       "    </tr>\n",
       "    <tr>\n",
       "      <th>4</th>\n",
       "      <td>1.143309</td>\n",
       "      <td>1.295179</td>\n",
       "      <td>1.857628</td>\n",
       "      <td>1.260771</td>\n",
       "      <td>1.374894</td>\n",
       "    </tr>\n",
       "  </tbody>\n",
       "</table>\n",
       "</div>"
      ],
      "text/plain": [
       "          a         b         c         d         e\n",
       "0  1.710888  1.832475  1.914088  1.916032  1.307942\n",
       "1  1.519114  1.981072  1.248503  1.139530  1.659654\n",
       "2  1.544266  1.833799  1.906612  1.058989  1.644285\n",
       "3  1.132912  1.136846  1.872365  1.001482  1.726929\n",
       "4  1.143309  1.295179  1.857628  1.260771  1.374894"
      ]
     },
     "execution_count": 5,
     "metadata": {},
     "output_type": "execute_result"
    }
   ],
   "source": [
    "import pandas as pd\n",
    "df = pd.DataFrame(matrix, columns=['a', 'b', 'c', 'd', 'e'])\n",
    "df.head()"
   ]
  },
  {
   "cell_type": "markdown",
   "id": "2a059fbc-b9bb-4690-a92b-d98fc66c424d",
   "metadata": {},
   "source": [
    "Finding column with max standard deviation"
   ]
  },
  {
   "cell_type": "code",
   "execution_count": 10,
   "id": "5298094a-e0a2-4d96-ad4f-991d6ec5f78e",
   "metadata": {},
   "outputs": [
    {
     "name": "stdout",
     "output_type": "stream",
     "text": [
      "d\n"
     ]
    }
   ],
   "source": [
    "highest_std_col = df.std().idxmax()\n",
    "print(highest_std_col)"
   ]
  },
  {
   "cell_type": "markdown",
   "id": "8230028a-980d-4818-a939-7985474209ce",
   "metadata": {},
   "source": [
    "Finding row with lowest mean"
   ]
  },
  {
   "cell_type": "code",
   "execution_count": 13,
   "id": "d92ddf6b-20ab-43d6-ab97-1ab360d77a39",
   "metadata": {},
   "outputs": [
    {
     "name": "stdout",
     "output_type": "stream",
     "text": [
      "19\n"
     ]
    }
   ],
   "source": [
    "lowest_mean_row = df.mean(axis=1).idxmin()\n",
    "print(lowest_mean_row)"
   ]
  },
  {
   "cell_type": "code",
   "execution_count": 25,
   "id": "7ae5ddfb-b6dd-42eb-9908-1891f83eb498",
   "metadata": {},
   "outputs": [
    {
     "name": "stdout",
     "output_type": "stream",
     "text": [
      "a    1.984509\n",
      "b    1.194111\n",
      "c    1.033226\n",
      "d    1.239790\n",
      "e    1.015732\n",
      "Name: 19, dtype: float64\n"
     ]
    }
   ],
   "source": [
    "row = df.iloc[19, :]\n",
    "print(row)"
   ]
  },
  {
   "cell_type": "code",
   "execution_count": null,
   "id": "04a9fe4b-4b3e-40fb-9598-fdb6a04d4ebe",
   "metadata": {},
   "outputs": [],
   "source": []
  }
 ],
 "metadata": {
  "kernelspec": {
   "display_name": "Python 3 (ipykernel)",
   "language": "python",
   "name": "python3"
  },
  "language_info": {
   "codemirror_mode": {
    "name": "ipython",
    "version": 3
   },
   "file_extension": ".py",
   "mimetype": "text/x-python",
   "name": "python",
   "nbconvert_exporter": "python",
   "pygments_lexer": "ipython3",
   "version": "3.12.4"
  }
 },
 "nbformat": 4,
 "nbformat_minor": 5
}
