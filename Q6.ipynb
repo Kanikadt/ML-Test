{
 "cells": [
  {
   "cell_type": "code",
   "execution_count": 3,
   "id": "5759d338-d720-4299-95ab-3b9db2244779",
   "metadata": {},
   "outputs": [],
   "source": [
    "import sympy as sp"
   ]
  },
  {
   "cell_type": "code",
   "execution_count": 5,
   "id": "654a4614-1f4a-4d9a-8f32-910fbd6c2154",
   "metadata": {},
   "outputs": [],
   "source": [
    "x, y = sp.symbols('x y')"
   ]
  },
  {
   "cell_type": "code",
   "execution_count": 7,
   "id": "117bbfb5-1446-4625-a346-cb5a2b9a9cb6",
   "metadata": {},
   "outputs": [],
   "source": [
    "func = (x**2)*y + (y**3)*sp.sin(x)"
   ]
  },
  {
   "cell_type": "markdown",
   "id": "c8b05804-b754-48b8-9bfa-98028467a5d1",
   "metadata": {},
   "source": [
    "Gradient w.r.t to x"
   ]
  },
  {
   "cell_type": "code",
   "execution_count": 12,
   "id": "66f7cced-1311-4393-9a73-08355ef48d58",
   "metadata": {},
   "outputs": [
    {
     "name": "stdout",
     "output_type": "stream",
     "text": [
      "2*x*y + y**3*cos(x)\n"
     ]
    }
   ],
   "source": [
    "grad_x = sp.diff(func,x)\n",
    "print(grad_x)"
   ]
  },
  {
   "cell_type": "markdown",
   "id": "95840f7d-4738-4575-a40e-ef4c35147251",
   "metadata": {},
   "source": [
    "Gradient w.r.t to y"
   ]
  },
  {
   "cell_type": "code",
   "execution_count": 15,
   "id": "7f0647d5-2fe5-4d9b-af0e-626b21811757",
   "metadata": {},
   "outputs": [
    {
     "name": "stdout",
     "output_type": "stream",
     "text": [
      "x**2 + 3*y**2*sin(x)\n"
     ]
    }
   ],
   "source": [
    "grad_y = sp.diff(func,y)\n",
    "print(grad_y)"
   ]
  },
  {
   "cell_type": "markdown",
   "id": "0befc575-cc0c-4d54-b1cf-bc174410d177",
   "metadata": {},
   "source": [
    "It can be seen that the results obtained here matched the results obtained by analytical method."
   ]
  }
 ],
 "metadata": {
  "kernelspec": {
   "display_name": "Python 3 (ipykernel)",
   "language": "python",
   "name": "python3"
  },
  "language_info": {
   "codemirror_mode": {
    "name": "ipython",
    "version": 3
   },
   "file_extension": ".py",
   "mimetype": "text/x-python",
   "name": "python",
   "nbconvert_exporter": "python",
   "pygments_lexer": "ipython3",
   "version": "3.12.4"
  }
 },
 "nbformat": 4,
 "nbformat_minor": 5
}
