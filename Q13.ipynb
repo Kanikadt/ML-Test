{
 "cells": [
  {
   "cell_type": "code",
   "execution_count": 21,
   "id": "dcd93b7e-d00b-4fc2-b696-ddb8dd89cbf0",
   "metadata": {},
   "outputs": [],
   "source": [
    "import numpy as np"
   ]
  },
  {
   "cell_type": "code",
   "execution_count": 42,
   "id": "9b187be5-4d2b-49fe-ab35-1bda2f86d689",
   "metadata": {},
   "outputs": [],
   "source": [
    "def argmin(a):\n",
    "    if not isinstance(a, np.ndarray):\n",
    "        raise ValueError(\"Given array is not a Numpy array\")\n",
    "    if len(a) == 0:\n",
    "        raise ValueError(\"Given array is an empty array\")\n",
    "    \n",
    "    l = len(a)\n",
    "    min = 0 \n",
    "    for i in range(1, l):\n",
    "        if a[i]<= a[min]:\n",
    "            min = i\n",
    "\n",
    "    return min"
   ]
  },
  {
   "cell_type": "code",
   "execution_count": 44,
   "id": "f1409497-e33e-4fc4-a12c-9a54e090170e",
   "metadata": {},
   "outputs": [
    {
     "data": {
      "text/plain": [
       "1"
      ]
     },
     "execution_count": 44,
     "metadata": {},
     "output_type": "execute_result"
    }
   ],
   "source": [
    "# Example usage\n",
    "a= np.array([23, -82, 51, 5, 1])\n",
    "argmin(a)"
   ]
  },
  {
   "cell_type": "markdown",
   "id": "0b71e7fa-cc04-43e9-ac6c-812c208ebb70",
   "metadata": {},
   "source": [
    "So the index came out to be 1 which is correct as the element is minimum that is -82"
   ]
  },
  {
   "cell_type": "code",
   "execution_count": 47,
   "id": "7f5010ae-1c13-4ddf-9dd8-5cf058813dbc",
   "metadata": {},
   "outputs": [
    {
     "name": "stdout",
     "output_type": "stream",
     "text": [
      "1\n"
     ]
    }
   ],
   "source": [
    "# Verifying \n",
    "ans = np.argmin(a)\n",
    "print(ans)"
   ]
  },
  {
   "cell_type": "markdown",
   "id": "3d39671e-da25-4f5e-989c-26dae38a1366",
   "metadata": {},
   "source": [
    "Using the numpy function also I am getting index 1 which is correct"
   ]
  },
  {
   "cell_type": "code",
   "execution_count": null,
   "id": "d7cf9aa8-5d5a-4a2d-a3ea-3e64bbe9c89f",
   "metadata": {},
   "outputs": [],
   "source": []
  }
 ],
 "metadata": {
  "kernelspec": {
   "display_name": "Python 3 (ipykernel)",
   "language": "python",
   "name": "python3"
  },
  "language_info": {
   "codemirror_mode": {
    "name": "ipython",
    "version": 3
   },
   "file_extension": ".py",
   "mimetype": "text/x-python",
   "name": "python",
   "nbconvert_exporter": "python",
   "pygments_lexer": "ipython3",
   "version": "3.12.4"
  }
 },
 "nbformat": 4,
 "nbformat_minor": 5
}
