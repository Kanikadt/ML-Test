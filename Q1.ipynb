{
 "cells": [
  {
   "cell_type": "markdown",
   "id": "584b6a1c-7aaa-49ef-891d-557fce922148",
   "metadata": {},
   "source": [
    "Q1.\n",
    "\n",
    "When we perform matrix multiplication between a (n, k) and (k, m) matrix, we get a resultant matrix containing (n x m) elements. Now to get each element we perform k multpilications and (k-1) additions. So for all elements, in total we require (nxmxk) multiplications and (nxmx(k-1)) additions."
   ]
  },
  {
   "cell_type": "code",
   "execution_count": null,
   "id": "d14be64f-d2f2-4e42-871a-59851a254b55",
   "metadata": {},
   "outputs": [],
   "source": []
  }
 ],
 "metadata": {
  "kernelspec": {
   "display_name": "Python 3 (ipykernel)",
   "language": "python",
   "name": "python3"
  },
  "language_info": {
   "codemirror_mode": {
    "name": "ipython",
    "version": 3
   },
   "file_extension": ".py",
   "mimetype": "text/x-python",
   "name": "python",
   "nbconvert_exporter": "python",
   "pygments_lexer": "ipython3",
   "version": "3.12.4"
  }
 },
 "nbformat": 4,
 "nbformat_minor": 5
}
